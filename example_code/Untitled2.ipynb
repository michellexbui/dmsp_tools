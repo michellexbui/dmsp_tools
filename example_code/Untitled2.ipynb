{
 "cells": [
  {
   "cell_type": "code",
   "execution_count": 1,
   "id": "b0e60cd8-8791-4253-98b5-dd8ede345700",
   "metadata": {},
   "outputs": [
    {
     "name": "stdout",
     "output_type": "stream",
     "text": [
      "This unreleased version of SpacePy is not supported by the SpacePy team.\n"
     ]
    }
   ],
   "source": [
    "from pyitm.fileio.util import read_all_files\n",
    "\n",
    "import numpy as np\n",
    "import matplotlib.pyplot as plt\n",
    "import cartopy.crs as ccrs\n",
    "from cartopy.feature.nightshade import Nightshade\n",
    "import pandas as pd\n",
    "\n",
    "from spacepy.pybats import gitm"
   ]
  },
  {
   "cell_type": "code",
   "execution_count": null,
   "id": "795f5eff-cea4-4ecb-8fdb-ea22e26e025f",
   "metadata": {},
   "outputs": [],
   "source": []
  },
  {
   "cell_type": "code",
   "execution_count": 2,
   "id": "f831a702-038a-4585-ac90-4c6be2bd9ad9",
   "metadata": {},
   "outputs": [],
   "source": [
    "dat1 = gitm.GitmBin('/mnt/data5/abukowski/new_fixed_gitm_TMP/GITM/run_20110926_N_FTA/data/*.bin', degrees=True)"
   ]
  },
  {
   "cell_type": "code",
   "execution_count": 3,
   "id": "e9bc6c6a-6b8d-478a-a23c-7fe6861f66b1",
   "metadata": {},
   "outputs": [
    {
     "ename": "KeyError",
     "evalue": "'file'",
     "output_type": "error",
     "traceback": [
      "\u001b[0;31m---------------------------------------------------------------------------\u001b[0m",
      "\u001b[0;31mKeyError\u001b[0m                                  Traceback (most recent call last)",
      "File \u001b[0;32m~/miniconda3/envs/mypy/lib/python3.12/site-packages/IPython/core/formatters.py:770\u001b[0m, in \u001b[0;36mPlainTextFormatter.__call__\u001b[0;34m(self, obj)\u001b[0m\n\u001b[1;32m    763\u001b[0m stream \u001b[38;5;241m=\u001b[39m StringIO()\n\u001b[1;32m    764\u001b[0m printer \u001b[38;5;241m=\u001b[39m pretty\u001b[38;5;241m.\u001b[39mRepresentationPrinter(stream, \u001b[38;5;28mself\u001b[39m\u001b[38;5;241m.\u001b[39mverbose,\n\u001b[1;32m    765\u001b[0m     \u001b[38;5;28mself\u001b[39m\u001b[38;5;241m.\u001b[39mmax_width, \u001b[38;5;28mself\u001b[39m\u001b[38;5;241m.\u001b[39mnewline,\n\u001b[1;32m    766\u001b[0m     max_seq_length\u001b[38;5;241m=\u001b[39m\u001b[38;5;28mself\u001b[39m\u001b[38;5;241m.\u001b[39mmax_seq_length,\n\u001b[1;32m    767\u001b[0m     singleton_pprinters\u001b[38;5;241m=\u001b[39m\u001b[38;5;28mself\u001b[39m\u001b[38;5;241m.\u001b[39msingleton_printers,\n\u001b[1;32m    768\u001b[0m     type_pprinters\u001b[38;5;241m=\u001b[39m\u001b[38;5;28mself\u001b[39m\u001b[38;5;241m.\u001b[39mtype_printers,\n\u001b[1;32m    769\u001b[0m     deferred_pprinters\u001b[38;5;241m=\u001b[39m\u001b[38;5;28mself\u001b[39m\u001b[38;5;241m.\u001b[39mdeferred_printers)\n\u001b[0;32m--> 770\u001b[0m printer\u001b[38;5;241m.\u001b[39mpretty(obj)\n\u001b[1;32m    771\u001b[0m printer\u001b[38;5;241m.\u001b[39mflush()\n\u001b[1;32m    772\u001b[0m \u001b[38;5;28;01mreturn\u001b[39;00m stream\u001b[38;5;241m.\u001b[39mgetvalue()\n",
      "File \u001b[0;32m~/miniconda3/envs/mypy/lib/python3.12/site-packages/IPython/lib/pretty.py:419\u001b[0m, in \u001b[0;36mRepresentationPrinter.pretty\u001b[0;34m(self, obj)\u001b[0m\n\u001b[1;32m    408\u001b[0m                         \u001b[38;5;28;01mreturn\u001b[39;00m meth(obj, \u001b[38;5;28mself\u001b[39m, cycle)\n\u001b[1;32m    409\u001b[0m                 \u001b[38;5;28;01mif\u001b[39;00m (\n\u001b[1;32m    410\u001b[0m                     \u001b[38;5;28mcls\u001b[39m \u001b[38;5;129;01mis\u001b[39;00m \u001b[38;5;129;01mnot\u001b[39;00m \u001b[38;5;28mobject\u001b[39m\n\u001b[1;32m    411\u001b[0m                     \u001b[38;5;66;03m# check if cls defines __repr__\u001b[39;00m\n\u001b[0;32m   (...)\u001b[0m\n\u001b[1;32m    417\u001b[0m                     \u001b[38;5;129;01mand\u001b[39;00m \u001b[38;5;28mcallable\u001b[39m(_safe_getattr(\u001b[38;5;28mcls\u001b[39m, \u001b[38;5;124m\"\u001b[39m\u001b[38;5;124m__repr__\u001b[39m\u001b[38;5;124m\"\u001b[39m, \u001b[38;5;28;01mNone\u001b[39;00m))\n\u001b[1;32m    418\u001b[0m                 ):\n\u001b[0;32m--> 419\u001b[0m                     \u001b[38;5;28;01mreturn\u001b[39;00m _repr_pprint(obj, \u001b[38;5;28mself\u001b[39m, cycle)\n\u001b[1;32m    421\u001b[0m     \u001b[38;5;28;01mreturn\u001b[39;00m _default_pprint(obj, \u001b[38;5;28mself\u001b[39m, cycle)\n\u001b[1;32m    422\u001b[0m \u001b[38;5;28;01mfinally\u001b[39;00m:\n",
      "File \u001b[0;32m~/miniconda3/envs/mypy/lib/python3.12/site-packages/IPython/lib/pretty.py:794\u001b[0m, in \u001b[0;36m_repr_pprint\u001b[0;34m(obj, p, cycle)\u001b[0m\n\u001b[1;32m    792\u001b[0m \u001b[38;5;250m\u001b[39m\u001b[38;5;124;03m\"\"\"A pprint that just redirects to the normal repr function.\"\"\"\u001b[39;00m\n\u001b[1;32m    793\u001b[0m \u001b[38;5;66;03m# Find newlines and replace them with p.break_()\u001b[39;00m\n\u001b[0;32m--> 794\u001b[0m output \u001b[38;5;241m=\u001b[39m \u001b[38;5;28mrepr\u001b[39m(obj)\n\u001b[1;32m    795\u001b[0m lines \u001b[38;5;241m=\u001b[39m output\u001b[38;5;241m.\u001b[39msplitlines()\n\u001b[1;32m    796\u001b[0m \u001b[38;5;28;01mwith\u001b[39;00m p\u001b[38;5;241m.\u001b[39mgroup():\n",
      "File \u001b[0;32m~/Downloads/spacepy/spacepy/pybats/gitm.py:81\u001b[0m, in \u001b[0;36mGitmBin.__repr__\u001b[0;34m(self)\u001b[0m\n\u001b[1;32m     80\u001b[0m \u001b[38;5;28;01mdef\u001b[39;00m \u001b[38;5;21m__repr__\u001b[39m(\u001b[38;5;28mself\u001b[39m):\n\u001b[0;32m---> 81\u001b[0m     \u001b[38;5;28;01mreturn\u001b[39;00m \u001b[38;5;124m'\u001b[39m\u001b[38;5;124mGITM binary output file \u001b[39m\u001b[38;5;132;01m%s\u001b[39;00m\u001b[38;5;124m'\u001b[39m \u001b[38;5;241m%\u001b[39m (\u001b[38;5;28mself\u001b[39m\u001b[38;5;241m.\u001b[39mattrs[\u001b[38;5;124m'\u001b[39m\u001b[38;5;124mfile\u001b[39m\u001b[38;5;124m'\u001b[39m])\n",
      "\u001b[0;31mKeyError\u001b[0m: 'file'"
     ]
    }
   ],
   "source": [
    "dat1.k"
   ]
  },
  {
   "cell_type": "code",
   "execution_count": null,
   "id": "d9c9767b-aa1c-4cf5-b354-f86cf110b48a",
   "metadata": {},
   "outputs": [],
   "source": []
  },
  {
   "cell_type": "code",
   "execution_count": null,
   "id": "09fd8cbe-8648-4157-a6e3-39c06aefd12d",
   "metadata": {},
   "outputs": [],
   "source": []
  },
  {
   "cell_type": "code",
   "execution_count": null,
   "id": "8c57621b-9cf0-42fb-b9a4-20b0d5078bbf",
   "metadata": {},
   "outputs": [],
   "source": []
  },
  {
   "cell_type": "code",
   "execution_count": null,
   "id": "71043655-d8c9-44f1-8427-75f29d496edd",
   "metadata": {},
   "outputs": [],
   "source": []
  },
  {
   "cell_type": "code",
   "execution_count": null,
   "id": "985a13a9-2a92-4ec4-8926-a816d0141ad3",
   "metadata": {},
   "outputs": [],
   "source": []
  },
  {
   "cell_type": "code",
   "execution_count": 4,
   "id": "45d9c994-92e3-476d-b9ef-ebdac1e85e7d",
   "metadata": {},
   "outputs": [],
   "source": [
    "dat0 = read_all_files('/mnt/data5/abukowski/new_fixed_gitm_TMP/GITM/run_20110926_N_FTA/data/*.bin')"
   ]
  },
  {
   "cell_type": "code",
   "execution_count": 5,
   "id": "f10fa548-83a7-4458-a64e-de8b25ada503",
   "metadata": {},
   "outputs": [
    {
     "data": {
      "text/plain": [
       "dict_keys(['times', 'data', 'vars', 'shortname', 'longname', 'lons', 'lats', 'alts', 'ntimes', 'nvars', 'nlons', 'nlats', 'nblocks', 'nalts'])"
      ]
     },
     "execution_count": 5,
     "metadata": {},
     "output_type": "execute_result"
    }
   ],
   "source": [
    "dat0.keys()"
   ]
  },
  {
   "cell_type": "code",
   "execution_count": 11,
   "id": "5a28851b-b48b-41a9-b62a-2d15fcf9ef37",
   "metadata": {},
   "outputs": [
    {
     "data": {
      "text/plain": [
       "(457, 19, 36, 36, 1)"
      ]
     },
     "execution_count": 11,
     "metadata": {},
     "output_type": "execute_result"
    }
   ],
   "source": [
    "dat0['data'].shape"
   ]
  },
  {
   "cell_type": "code",
   "execution_count": 10,
   "id": "070e4f38-e971-4d7d-8aae-559828594602",
   "metadata": {},
   "outputs": [
    {
     "data": {
      "text/plain": [
       "array([100.])"
      ]
     },
     "execution_count": 10,
     "metadata": {},
     "output_type": "execute_result"
    }
   ],
   "source": [
    "np.unique(dat0['alts'])"
   ]
  },
  {
   "cell_type": "code",
   "execution_count": 14,
   "id": "b905c41e-3eab-408e-b494-bb1db37d9268",
   "metadata": {},
   "outputs": [
    {
     "data": {
      "text/plain": [
       "['Longitude',\n",
       " 'Latitude',\n",
       " 'Altitude',\n",
       " 'Potential',\n",
       " 'PedersenConductance',\n",
       " 'HallConductance',\n",
       " 'Electron_Average_Energy_Diffuse',\n",
       " 'Electron_Energy_Flux_Diffuse',\n",
       " 'Electron_Average_Energy_Wave',\n",
       " 'Electron_Energy_Flux_Wave',\n",
       " 'Electron_Average_Energy_Mono',\n",
       " 'Electron_Energy_Flux_Mono',\n",
       " 'Ion_Average_Energy',\n",
       " 'Ion_Energy_Flux',\n",
       " 'DivJuAlt',\n",
       " 'PedersenFLConductance',\n",
       " 'HallFLConductance',\n",
       " 'DivJuFL',\n",
       " 'FLLength']"
      ]
     },
     "execution_count": 14,
     "metadata": {},
     "output_type": "execute_result"
    }
   ],
   "source": [
    "dat0['longname']"
   ]
  },
  {
   "cell_type": "code",
   "execution_count": 17,
   "id": "d4918757-3421-4249-8fd7-019d21ce8e17",
   "metadata": {},
   "outputs": [
    {
     "data": {
      "text/plain": [
       "(5, 36, 36, 1)"
      ]
     },
     "execution_count": 17,
     "metadata": {},
     "output_type": "execute_result"
    }
   ],
   "source": [
    "a = dat0['data'][55:60, 6, ...]\n",
    "a.shape"
   ]
  },
  {
   "cell_type": "code",
   "execution_count": 26,
   "id": "e42be047-0a76-4deb-ae12-b984be1b1991",
   "metadata": {},
   "outputs": [
    {
     "data": {
      "text/plain": [
       "<matplotlib.image.AxesImage at 0x7fb869cf7c50>"
      ]
     },
     "execution_count": 26,
     "metadata": {},
     "output_type": "execute_result"
    },
    {
     "data": {
      "image/png": "[encoded data removed]",
      "text/plain": [
       "<Figure size 640x480 with 1 Axes>"
      ]
     },
     "metadata": {},
     "output_type": "display_data"
    }
   ],
   "source": [
    "plt.imshow(a[3, :, :, 0].T, extent=[np.min(dat0['lons']), np.max(dat0['lons']), np.min(dat0['lats']), np.max(dat0['lats'])])"
   ]
  },
  {
   "cell_type": "code",
   "execution_count": 47,
   "id": "308dc0a1-b2b3-4d35-8162-58d09e18c26e",
   "metadata": {},
   "outputs": [
    {
     "data": {
      "text/plain": [
       "<matplotlib.collections.PolyQuadMesh at 0x7fb859cb2810>"
      ]
     },
     "execution_count": 47,
     "metadata": {},
     "output_type": "execute_result"
    },
    {
     "data": {
      "image/png": "[encoded data removed]",
      "text/plain": [
       "<Figure size 640x480 with 1 Axes>"
      ]
     },
     "metadata": {},
     "output_type": "display_data"
    }
   ],
   "source": [
    "lon = dat0['lons'][:, 0, 0]\n",
    "lat = dat0['lats'][0, :, 0]\n",
    "\n",
    "ax = plt.subplot(projection=ccrs.Orthographic(40, 90))\n",
    "plt.pcolor(lon, lat, a[3, :, :, 0].T, transform=ccrs.PlateCarree())\n",
    "\n",
    "# ax.coastlines()\n",
    "# ax.set_global()\n",
    "# ax.add_feature(Nightshade(dat0['times'][58]))"
   ]
  },
  {
   "cell_type": "code",
   "execution_count": null,
   "id": "50bc5f13-3d41-4528-98b3-3e30aeac683a",
   "metadata": {},
   "outputs": [],
   "source": []
  },
  {
   "cell_type": "code",
   "execution_count": null,
   "id": "341c51b1-347d-4c72-b081-cf1a9a967a99",
   "metadata": {},
   "outputs": [],
   "source": []
  },
  {
   "cell_type": "code",
   "execution_count": 22,
   "id": "b4e6eac1-faad-4e61-9da1-e9ad41d8dfa6",
   "metadata": {},
   "outputs": [
    {
     "data": {
      "text/plain": [
       "(5.000000000000001, 354.9999999999999, 45.625, 89.375)"
      ]
     },
     "execution_count": 22,
     "metadata": {},
     "output_type": "execute_result"
    }
   ],
   "source": [
    "np.min(dat0['lons']), np.max(dat0['lons']), np.min(dat0['lats']), np.max(dat0['lats'])"
   ]
  },
  {
   "cell_type": "code",
   "execution_count": null,
   "id": "e5e91fac-5a35-4021-83cc-0e164387f345",
   "metadata": {},
   "outputs": [],
   "source": []
  },
  {
   "cell_type": "code",
   "execution_count": 31,
   "id": "0194b7ef-a58d-463c-980d-5d83e58347b3",
   "metadata": {},
   "outputs": [
    {
     "name": "stdout",
     "output_type": "stream",
     "text": [
      "[9.999999999999996, 0.0, nan]\n"
     ]
    }
   ],
   "source": [
    "print([np.mean(np.diff(dat0['lons'], axis=i)) for i in range(3)]);"
   ]
  },
  {
   "cell_type": "code",
   "execution_count": null,
   "id": "0ce5e963-d961-4266-adcc-bd75f5653b0f",
   "metadata": {},
   "outputs": [],
   "source": []
  }
 ],
 "metadata": {
  "kernelspec": {
   "display_name": "Python [conda env:mypy]",
   "language": "python",
   "name": "conda-env-mypy-py"
  },
  "language_info": {
   "codemirror_mode": {
    "name": "ipython",
    "version": 3
   },
   "file_extension": ".py",
   "mimetype": "text/x-python",
   "name": "python",
   "nbconvert_exporter": "python",
   "pygments_lexer": "ipython3",
   "version": "3.12.2"
  }
 },
 "nbformat": 4,
 "nbformat_minor": 5
}
